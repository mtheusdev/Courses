{
 "cells": [
  {
   "cell_type": "code",
   "execution_count": 1,
   "metadata": {},
   "outputs": [],
   "source": [
    "import pandas as pd\n",
    "import numpy as np\n",
    "import seaborn as sns\n",
    "import matplotlib.pyplot as plt\n",
    "import plotly.express as px\n",
    "import pickle\n",
    "import Orange"
   ]
  },
  {
   "cell_type": "code",
   "execution_count": 3,
   "metadata": {},
   "outputs": [],
   "source": [
    "base_credit = Orange.data.Table('../../../bases/credit_datac#.csv')"
   ]
  },
  {
   "cell_type": "code",
   "execution_count": 4,
   "metadata": {},
   "outputs": [
    {
     "data": {
      "text/plain": [
       "[[66155.9, 59.017, 8106.53 | 0],\n",
       " [34415.2, 48.1172, 6564.75 | 0],\n",
       " [57317.2, 63.108, 8020.95 | 0],\n",
       " [42709.5, 45.752, 6103.64 | 0],\n",
       " [66952.7, 18.5843, 8770.1 | 1],\n",
       " ...\n",
       "]"
      ]
     },
     "execution_count": 4,
     "metadata": {},
     "output_type": "execute_result"
    }
   ],
   "source": [
    "base_credit"
   ]
  },
  {
   "cell_type": "code",
   "execution_count": 5,
   "metadata": {},
   "outputs": [
    {
     "data": {
      "text/plain": [
       "[income, age, loan | default]"
      ]
     },
     "execution_count": 5,
     "metadata": {},
     "output_type": "execute_result"
    }
   ],
   "source": [
    "base_credit.domain"
   ]
  },
  {
   "cell_type": "code",
   "execution_count": 11,
   "metadata": {},
   "outputs": [],
   "source": [
    "base_dividida = Orange.evaluation.testing.sample(base_credit, n = 0.25)"
   ]
  },
  {
   "cell_type": "code",
   "execution_count": 12,
   "metadata": {},
   "outputs": [
    {
     "data": {
      "text/plain": [
       "([[55176.1, 49.4559, 7822.94 | 0],\n",
       "  [60016.1, 54.3172, 2857.01 | 0],\n",
       "  [66091.9, 24.2041, 8743.51 | 1],\n",
       "  [62535.6, 39.1941, 9490.26 | 0],\n",
       "  [62895.7, 49.9226, 2001.28 | 0],\n",
       "  ...\n",
       " ],\n",
       " [[39685, 33.6289, 2590.93 | 0],\n",
       "  [69695.2, 26.4245, 8418.25 | 1],\n",
       "  [40453.9, 20.7099, 890.94 | 0],\n",
       "  [28753.3, 49.4035, 4990.37 | 0],\n",
       "  [34910, 25.5687, 2852.37 | 0],\n",
       "  ...\n",
       " ])"
      ]
     },
     "execution_count": 12,
     "metadata": {},
     "output_type": "execute_result"
    }
   ],
   "source": [
    "base_dividida"
   ]
  },
  {
   "cell_type": "code",
   "execution_count": 13,
   "metadata": {},
   "outputs": [
    {
     "data": {
      "text/plain": [
       "[[55176.1, 49.4559, 7822.94 | 0],\n",
       " [60016.1, 54.3172, 2857.01 | 0],\n",
       " [66091.9, 24.2041, 8743.51 | 1],\n",
       " [62535.6, 39.1941, 9490.26 | 0],\n",
       " [62895.7, 49.9226, 2001.28 | 0],\n",
       " ...\n",
       "]"
      ]
     },
     "execution_count": 13,
     "metadata": {},
     "output_type": "execute_result"
    }
   ],
   "source": [
    "base_dividida[0]"
   ]
  },
  {
   "cell_type": "code",
   "execution_count": 14,
   "metadata": {},
   "outputs": [],
   "source": [
    "base_treinamento = base_dividida[1]\n",
    "base_teste = base_dividida[0]"
   ]
  },
  {
   "cell_type": "code",
   "execution_count": 15,
   "metadata": {},
   "outputs": [
    {
     "data": {
      "text/plain": [
       "(1500, 500)"
      ]
     },
     "execution_count": 15,
     "metadata": {},
     "output_type": "execute_result"
    }
   ],
   "source": [
    "len(base_treinamento), len(base_teste)"
   ]
  },
  {
   "cell_type": "code",
   "execution_count": 16,
   "metadata": {},
   "outputs": [],
   "source": [
    "cn2 = Orange.classification.rules.CN2Learner()\n",
    "regras_credit = cn2(base_treinamento)"
   ]
  },
  {
   "cell_type": "code",
   "execution_count": 19,
   "metadata": {},
   "outputs": [
    {
     "name": "stdout",
     "output_type": "stream",
     "text": [
      "IF age>=34.851817262359 THEN default=0 \n",
      "IF loan>=7660.34617051509 THEN default=1 \n",
      "IF income>=58132.4712652713 THEN default=0 \n",
      "IF loan>=6016.61509078929 AND age>=22.926914404612003 THEN default=1 \n",
      "IF loan<=2940.4239697461103 AND income>=21448.8279935904 THEN default=0 \n",
      "IF loan>=5473.98555060076 AND age>=30.1578542543575 THEN default=1 \n",
      "IF loan>=6525.21842259918 THEN default=1 \n",
      "IF loan<=2495.13299137587 AND income>=20568.891305010802 THEN default=0 \n",
      "IF income<=32197.6207010448 AND age>=21.3656869572587 THEN default=1 \n",
      "IF income>=45311.831838917 AND income>=49640.00470237809 THEN default=0 \n",
      "IF income>=37277.1230572835 AND age>=29.209119285922498 THEN default=0 \n",
      "IF loan>=4849.33378471958 AND loan>=5785.88427485782 THEN default=1 \n",
      "IF income>=39188.9452864416 AND income>=45311.831838917 THEN default=0 \n",
      "IF loan>=4849.33378471958 AND loan>=5233.66322803221 THEN default=1 \n",
      "IF loan<=4285.38691174949 AND loan>=4285.38691174949 THEN default=1 \n",
      "IF age>=19.716176087502397 AND income>=39188.9452864416 THEN default=0 \n",
      "IF loan>=4509.88142162832 THEN default=1 \n",
      "IF age>=33.804503521882 THEN default=1 \n",
      "IF income>=29775.1422203146 THEN default=0 \n",
      "IF income<=26218.4948474169 THEN default=1 \n",
      "IF TRUE THEN default=0 \n"
     ]
    }
   ],
   "source": [
    "for regras in regras_credit.rule_list:\n",
    "    print(regras)"
   ]
  },
  {
   "cell_type": "code",
   "execution_count": 20,
   "metadata": {},
   "outputs": [],
   "source": [
    "previsoes = Orange.evaluation.testing.TestOnTestData(base_treinamento,base_teste, [lambda testdata: regras_credit])"
   ]
  },
  {
   "cell_type": "code",
   "execution_count": 21,
   "metadata": {},
   "outputs": [
    {
     "data": {
      "text/plain": [
       "<Orange.evaluation.testing.Results at 0x19610583ca0>"
      ]
     },
     "execution_count": 21,
     "metadata": {},
     "output_type": "execute_result"
    }
   ],
   "source": [
    "previsoes"
   ]
  },
  {
   "cell_type": "code",
   "execution_count": 22,
   "metadata": {},
   "outputs": [
    {
     "data": {
      "text/plain": [
       "array([0.966])"
      ]
     },
     "execution_count": 22,
     "metadata": {},
     "output_type": "execute_result"
    }
   ],
   "source": [
    "Orange.evaluation.CA(previsoes)"
   ]
  },
  {
   "cell_type": "code",
   "execution_count": null,
   "metadata": {},
   "outputs": [
    {
     "data": {
      "text/plain": [
       "array([0.966])"
      ]
     },
     "metadata": {},
     "output_type": "display_data"
    }
   ],
   "source": [
    "Orange.evaluation.CA(previsoes)"
   ]
  }
 ],
 "metadata": {
  "kernelspec": {
   "display_name": "Python 3.10.5 64-bit (windows store)",
   "language": "python",
   "name": "python3"
  },
  "language_info": {
   "codemirror_mode": {
    "name": "ipython",
    "version": 3
   },
   "file_extension": ".py",
   "mimetype": "text/x-python",
   "name": "python",
   "nbconvert_exporter": "python",
   "pygments_lexer": "ipython3",
   "version": "3.10.6"
  },
  "orig_nbformat": 4,
  "vscode": {
   "interpreter": {
    "hash": "0e08af0f12cee5debeb741571517edb6308eea34c0f66b883731c7e0e05f39ab"
   }
  }
 },
 "nbformat": 4,
 "nbformat_minor": 2
}
