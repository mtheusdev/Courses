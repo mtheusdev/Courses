{
 "cells": [
  {
   "cell_type": "code",
   "execution_count": 1,
   "metadata": {},
   "outputs": [],
   "source": [
    "import pandas as pd\n",
    "import numpy as np\n",
    "import seaborn as sns\n",
    "import matplotlib.pyplot as plt\n",
    "import plotly.express as px\n",
    "import pickle"
   ]
  },
  {
   "cell_type": "code",
   "execution_count": 2,
   "metadata": {},
   "outputs": [],
   "source": [
    "from sklearn.neural_network import MLPClassifier"
   ]
  },
  {
   "cell_type": "code",
   "execution_count": 3,
   "metadata": {},
   "outputs": [],
   "source": [
    "with open('../../bases/census.pkl', 'rb') as f:\n",
    "    X_census_treinamento, Y_census_treinamento, X_census_teste, Y_census_teste = pickle.load(f)"
   ]
  },
  {
   "cell_type": "code",
   "execution_count": 4,
   "metadata": {},
   "outputs": [
    {
     "data": {
      "text/plain": [
       "((27676, 108), (27676,))"
      ]
     },
     "execution_count": 4,
     "metadata": {},
     "output_type": "execute_result"
    }
   ],
   "source": [
    "X_census_treinamento.shape, Y_census_treinamento.shape"
   ]
  },
  {
   "cell_type": "code",
   "execution_count": 5,
   "metadata": {},
   "outputs": [
    {
     "data": {
      "text/plain": [
       "((4885, 108), (4885,))"
      ]
     },
     "execution_count": 5,
     "metadata": {},
     "output_type": "execute_result"
    }
   ],
   "source": [
    "X_census_teste.shape, Y_census_teste.shape"
   ]
  },
  {
   "cell_type": "code",
   "execution_count": 6,
   "metadata": {},
   "outputs": [],
   "source": [
    "# 108 entradas, 1 saída = 55\n",
    "ann_census = MLPClassifier(max_iter=1000, verbose=True, tol=0.000010, solver='adam', activation='relu', hidden_layer_sizes=(55, 55))"
   ]
  },
  {
   "cell_type": "code",
   "execution_count": 7,
   "metadata": {},
   "outputs": [
    {
     "name": "stdout",
     "output_type": "stream",
     "text": [
      "Iteration 1, loss = 0.40080859\n",
      "Iteration 2, loss = 0.32998667\n",
      "Iteration 3, loss = 0.31798291\n",
      "Iteration 4, loss = 0.30985294\n",
      "Iteration 5, loss = 0.30414784\n",
      "Iteration 6, loss = 0.29941250\n",
      "Iteration 7, loss = 0.29673751\n",
      "Iteration 8, loss = 0.29438329\n",
      "Iteration 9, loss = 0.29192136\n",
      "Iteration 10, loss = 0.28907650\n",
      "Iteration 11, loss = 0.28667329\n",
      "Iteration 12, loss = 0.28569788\n",
      "Iteration 13, loss = 0.28274518\n",
      "Iteration 14, loss = 0.28170699\n",
      "Iteration 15, loss = 0.27990442\n",
      "Iteration 16, loss = 0.27787420\n",
      "Iteration 17, loss = 0.27591130\n",
      "Iteration 18, loss = 0.27492017\n",
      "Iteration 19, loss = 0.27362792\n",
      "Iteration 20, loss = 0.27167364\n",
      "Iteration 21, loss = 0.27054538\n",
      "Iteration 22, loss = 0.26842054\n",
      "Iteration 23, loss = 0.26697504\n",
      "Iteration 24, loss = 0.26578921\n",
      "Iteration 25, loss = 0.26419336\n",
      "Iteration 26, loss = 0.26290144\n",
      "Iteration 27, loss = 0.26132208\n",
      "Iteration 28, loss = 0.26056043\n",
      "Iteration 29, loss = 0.25922786\n",
      "Iteration 30, loss = 0.25798685\n",
      "Iteration 31, loss = 0.25641675\n",
      "Iteration 32, loss = 0.25484015\n",
      "Iteration 33, loss = 0.25323188\n",
      "Iteration 34, loss = 0.25149277\n",
      "Iteration 35, loss = 0.25072252\n",
      "Iteration 36, loss = 0.24925797\n",
      "Iteration 37, loss = 0.24784951\n",
      "Iteration 38, loss = 0.24679626\n",
      "Iteration 39, loss = 0.24541340\n",
      "Iteration 40, loss = 0.24438759\n",
      "Iteration 41, loss = 0.24331622\n",
      "Iteration 42, loss = 0.24154109\n",
      "Iteration 43, loss = 0.24110649\n",
      "Iteration 44, loss = 0.23975150\n",
      "Iteration 45, loss = 0.23829260\n",
      "Iteration 46, loss = 0.23679053\n",
      "Iteration 47, loss = 0.23730474\n",
      "Iteration 48, loss = 0.23562137\n",
      "Iteration 49, loss = 0.23442804\n",
      "Iteration 50, loss = 0.23290137\n",
      "Iteration 51, loss = 0.23320413\n",
      "Iteration 52, loss = 0.23178649\n",
      "Iteration 53, loss = 0.23016474\n",
      "Iteration 54, loss = 0.22890065\n",
      "Iteration 55, loss = 0.22699930\n",
      "Iteration 56, loss = 0.22755197\n",
      "Iteration 57, loss = 0.22641284\n",
      "Iteration 58, loss = 0.22663047\n",
      "Iteration 59, loss = 0.22627277\n",
      "Iteration 60, loss = 0.22341736\n",
      "Iteration 61, loss = 0.22265647\n",
      "Iteration 62, loss = 0.22230495\n",
      "Iteration 63, loss = 0.22127909\n",
      "Iteration 64, loss = 0.22088424\n",
      "Iteration 65, loss = 0.21975401\n",
      "Iteration 66, loss = 0.21919734\n",
      "Iteration 67, loss = 0.21861450\n",
      "Iteration 68, loss = 0.21702150\n",
      "Iteration 69, loss = 0.21626773\n",
      "Iteration 70, loss = 0.21543968\n",
      "Iteration 71, loss = 0.21521920\n",
      "Iteration 72, loss = 0.21504995\n",
      "Iteration 73, loss = 0.21288600\n",
      "Iteration 74, loss = 0.21334653\n",
      "Iteration 75, loss = 0.21277059\n",
      "Iteration 76, loss = 0.21187503\n",
      "Iteration 77, loss = 0.20989609\n",
      "Iteration 78, loss = 0.21015748\n",
      "Iteration 79, loss = 0.20916474\n",
      "Iteration 80, loss = 0.20872966\n",
      "Iteration 81, loss = 0.20749199\n",
      "Iteration 82, loss = 0.20718806\n",
      "Iteration 83, loss = 0.20674291\n",
      "Iteration 84, loss = 0.20637713\n",
      "Iteration 85, loss = 0.20560199\n",
      "Iteration 86, loss = 0.20512058\n",
      "Iteration 87, loss = 0.20487058\n",
      "Iteration 88, loss = 0.20338386\n",
      "Iteration 89, loss = 0.20365308\n",
      "Iteration 90, loss = 0.20257658\n",
      "Iteration 91, loss = 0.20211550\n",
      "Iteration 92, loss = 0.20115824\n",
      "Iteration 93, loss = 0.20141225\n",
      "Iteration 94, loss = 0.19993059\n",
      "Iteration 95, loss = 0.19980652\n",
      "Iteration 96, loss = 0.20074717\n",
      "Iteration 97, loss = 0.19929023\n",
      "Iteration 98, loss = 0.19865793\n",
      "Iteration 99, loss = 0.19838550\n",
      "Iteration 100, loss = 0.19656936\n",
      "Iteration 101, loss = 0.19646842\n",
      "Iteration 102, loss = 0.19589552\n",
      "Iteration 103, loss = 0.19616040\n",
      "Iteration 104, loss = 0.19544748\n",
      "Iteration 105, loss = 0.19462664\n",
      "Iteration 106, loss = 0.19473514\n",
      "Iteration 107, loss = 0.19298099\n",
      "Iteration 108, loss = 0.19330149\n",
      "Iteration 109, loss = 0.19361196\n",
      "Iteration 110, loss = 0.19456895\n",
      "Iteration 111, loss = 0.19288643\n",
      "Iteration 112, loss = 0.19130833\n",
      "Iteration 113, loss = 0.19185828\n",
      "Iteration 114, loss = 0.19041576\n",
      "Iteration 115, loss = 0.19132745\n",
      "Iteration 116, loss = 0.18939615\n",
      "Iteration 117, loss = 0.18970272\n",
      "Iteration 118, loss = 0.18939554\n",
      "Iteration 119, loss = 0.18862005\n",
      "Iteration 120, loss = 0.18828141\n",
      "Iteration 121, loss = 0.18726148\n",
      "Iteration 122, loss = 0.18696418\n",
      "Iteration 123, loss = 0.18648043\n",
      "Iteration 124, loss = 0.18688648\n",
      "Iteration 125, loss = 0.18637615\n",
      "Iteration 126, loss = 0.18589652\n",
      "Iteration 127, loss = 0.18485671\n",
      "Iteration 128, loss = 0.18544959\n",
      "Iteration 129, loss = 0.18350908\n",
      "Iteration 130, loss = 0.18405681\n",
      "Iteration 131, loss = 0.18351460\n",
      "Iteration 132, loss = 0.18253563\n",
      "Iteration 133, loss = 0.18211866\n",
      "Iteration 134, loss = 0.18209348\n",
      "Iteration 135, loss = 0.18153298\n",
      "Iteration 136, loss = 0.18013110\n",
      "Iteration 137, loss = 0.18309565\n",
      "Iteration 138, loss = 0.17953149\n",
      "Iteration 139, loss = 0.18259658\n",
      "Iteration 140, loss = 0.17988886\n",
      "Iteration 141, loss = 0.18202586\n",
      "Iteration 142, loss = 0.18020981\n",
      "Iteration 143, loss = 0.18058711\n",
      "Iteration 144, loss = 0.17952954\n",
      "Iteration 145, loss = 0.17780730\n",
      "Iteration 146, loss = 0.17782482\n",
      "Iteration 147, loss = 0.17803409\n",
      "Iteration 148, loss = 0.17707953\n",
      "Iteration 149, loss = 0.17809015\n",
      "Iteration 150, loss = 0.17844385\n",
      "Iteration 151, loss = 0.17695648\n",
      "Iteration 152, loss = 0.17635129\n",
      "Iteration 153, loss = 0.17689268\n",
      "Iteration 154, loss = 0.17885434\n",
      "Iteration 155, loss = 0.17529451\n",
      "Iteration 156, loss = 0.17483518\n",
      "Iteration 157, loss = 0.17359254\n",
      "Iteration 158, loss = 0.17505022\n",
      "Iteration 159, loss = 0.17361480\n",
      "Iteration 160, loss = 0.17528224\n",
      "Iteration 161, loss = 0.17461054\n",
      "Iteration 162, loss = 0.17354679\n",
      "Iteration 163, loss = 0.17361745\n",
      "Iteration 164, loss = 0.17284384\n",
      "Iteration 165, loss = 0.17235312\n",
      "Iteration 166, loss = 0.17348145\n",
      "Iteration 167, loss = 0.17206059\n",
      "Iteration 168, loss = 0.17307636\n",
      "Iteration 169, loss = 0.17240543\n",
      "Iteration 170, loss = 0.17245366\n",
      "Iteration 171, loss = 0.17059069\n",
      "Iteration 172, loss = 0.16976098\n",
      "Iteration 173, loss = 0.17039085\n",
      "Iteration 174, loss = 0.17148243\n",
      "Iteration 175, loss = 0.17167233\n",
      "Iteration 176, loss = 0.16998099\n",
      "Iteration 177, loss = 0.17021066\n",
      "Iteration 178, loss = 0.16903359\n",
      "Iteration 179, loss = 0.16773772\n",
      "Iteration 180, loss = 0.16935474\n",
      "Iteration 181, loss = 0.16871571\n",
      "Iteration 182, loss = 0.16865897\n",
      "Iteration 183, loss = 0.16788323\n",
      "Iteration 184, loss = 0.16754952\n",
      "Iteration 185, loss = 0.16864372\n",
      "Iteration 186, loss = 0.16874473\n",
      "Iteration 187, loss = 0.16790727\n",
      "Iteration 188, loss = 0.16636686\n",
      "Iteration 189, loss = 0.16574658\n",
      "Iteration 190, loss = 0.16697055\n",
      "Iteration 191, loss = 0.16635694\n",
      "Iteration 192, loss = 0.16619648\n",
      "Iteration 193, loss = 0.16713761\n",
      "Iteration 194, loss = 0.16678867\n",
      "Iteration 195, loss = 0.16504330\n",
      "Iteration 196, loss = 0.16682686\n",
      "Iteration 197, loss = 0.16765996\n",
      "Iteration 198, loss = 0.16452887\n",
      "Iteration 199, loss = 0.16666917\n",
      "Iteration 200, loss = 0.16308075\n",
      "Iteration 201, loss = 0.16476514\n",
      "Iteration 202, loss = 0.16377993\n",
      "Iteration 203, loss = 0.16439237\n",
      "Iteration 204, loss = 0.16471575\n",
      "Iteration 205, loss = 0.16261006\n",
      "Iteration 206, loss = 0.16428675\n",
      "Iteration 207, loss = 0.16181881\n",
      "Iteration 208, loss = 0.16243030\n",
      "Iteration 209, loss = 0.16325160\n",
      "Iteration 210, loss = 0.16186487\n",
      "Iteration 211, loss = 0.16301555\n",
      "Iteration 212, loss = 0.16150659\n",
      "Iteration 213, loss = 0.16089344\n",
      "Iteration 214, loss = 0.16213843\n",
      "Iteration 215, loss = 0.16090682\n",
      "Iteration 216, loss = 0.16137566\n",
      "Iteration 217, loss = 0.16053033\n",
      "Iteration 218, loss = 0.16151954\n",
      "Iteration 219, loss = 0.16145619\n",
      "Iteration 220, loss = 0.16235676\n",
      "Iteration 221, loss = 0.15998218\n",
      "Iteration 222, loss = 0.15890558\n",
      "Iteration 223, loss = 0.15862632\n",
      "Iteration 224, loss = 0.16038089\n",
      "Iteration 225, loss = 0.15979866\n",
      "Iteration 226, loss = 0.15969182\n",
      "Iteration 227, loss = 0.15891328\n",
      "Iteration 228, loss = 0.15895550\n",
      "Iteration 229, loss = 0.15894455\n",
      "Iteration 230, loss = 0.16005119\n",
      "Iteration 231, loss = 0.15894080\n",
      "Iteration 232, loss = 0.15780516\n",
      "Iteration 233, loss = 0.15930574\n",
      "Iteration 234, loss = 0.15855465\n",
      "Iteration 235, loss = 0.15664020\n",
      "Iteration 236, loss = 0.15810597\n",
      "Iteration 237, loss = 0.15793790\n",
      "Iteration 238, loss = 0.15941493\n",
      "Iteration 239, loss = 0.15747017\n",
      "Iteration 240, loss = 0.15698960\n",
      "Iteration 241, loss = 0.15667961\n",
      "Iteration 242, loss = 0.15828133\n",
      "Iteration 243, loss = 0.15693524\n",
      "Iteration 244, loss = 0.15633033\n",
      "Iteration 245, loss = 0.15745495\n",
      "Iteration 246, loss = 0.15639768\n",
      "Iteration 247, loss = 0.15749694\n",
      "Iteration 248, loss = 0.15634626\n",
      "Iteration 249, loss = 0.15410054\n",
      "Iteration 250, loss = 0.15449951\n",
      "Iteration 251, loss = 0.15506459\n",
      "Iteration 252, loss = 0.15452562\n",
      "Iteration 253, loss = 0.15490037\n",
      "Iteration 254, loss = 0.15519027\n",
      "Iteration 255, loss = 0.15558162\n",
      "Iteration 256, loss = 0.15538640\n",
      "Iteration 257, loss = 0.15411890\n",
      "Iteration 258, loss = 0.15438413\n",
      "Iteration 259, loss = 0.15520194\n",
      "Iteration 260, loss = 0.15334815\n",
      "Iteration 261, loss = 0.15389444\n",
      "Iteration 262, loss = 0.15548676\n",
      "Iteration 263, loss = 0.15361520\n",
      "Iteration 264, loss = 0.15315055\n",
      "Iteration 265, loss = 0.15165407\n",
      "Iteration 266, loss = 0.15130468\n",
      "Iteration 267, loss = 0.15189383\n",
      "Iteration 268, loss = 0.15138774\n",
      "Iteration 269, loss = 0.15273429\n",
      "Iteration 270, loss = 0.15262935\n",
      "Iteration 271, loss = 0.15222820\n",
      "Iteration 272, loss = 0.15158405\n",
      "Iteration 273, loss = 0.15158057\n",
      "Iteration 274, loss = 0.15191561\n",
      "Iteration 275, loss = 0.15047166\n",
      "Iteration 276, loss = 0.15106744\n",
      "Iteration 277, loss = 0.15039392\n",
      "Iteration 278, loss = 0.15111372\n",
      "Iteration 279, loss = 0.15183864\n",
      "Iteration 280, loss = 0.15185692\n",
      "Iteration 281, loss = 0.15016489\n",
      "Iteration 282, loss = 0.14986699\n",
      "Iteration 283, loss = 0.14965850\n",
      "Iteration 284, loss = 0.15167230\n",
      "Iteration 285, loss = 0.15014530\n",
      "Iteration 286, loss = 0.15062713\n",
      "Iteration 287, loss = 0.14911456\n",
      "Iteration 288, loss = 0.14943864\n",
      "Iteration 289, loss = 0.14971818\n",
      "Iteration 290, loss = 0.14895344\n",
      "Iteration 291, loss = 0.14864367\n",
      "Iteration 292, loss = 0.15031491\n",
      "Iteration 293, loss = 0.14787028\n",
      "Iteration 294, loss = 0.14765203\n",
      "Iteration 295, loss = 0.15043369\n",
      "Iteration 296, loss = 0.14884920\n",
      "Iteration 297, loss = 0.14853351\n",
      "Iteration 298, loss = 0.14713961\n",
      "Iteration 299, loss = 0.14788597\n",
      "Iteration 300, loss = 0.14646390\n",
      "Iteration 301, loss = 0.14743033\n",
      "Iteration 302, loss = 0.14714847\n",
      "Iteration 303, loss = 0.14609253\n",
      "Iteration 304, loss = 0.14793739\n",
      "Iteration 305, loss = 0.14624015\n",
      "Iteration 306, loss = 0.14710078\n",
      "Iteration 307, loss = 0.14679413\n",
      "Iteration 308, loss = 0.14559795\n",
      "Iteration 309, loss = 0.14633246\n",
      "Iteration 310, loss = 0.14634238\n",
      "Iteration 311, loss = 0.14889610\n",
      "Iteration 312, loss = 0.14761626\n",
      "Iteration 313, loss = 0.14504469\n",
      "Iteration 314, loss = 0.14741969\n",
      "Iteration 315, loss = 0.14712637\n",
      "Iteration 316, loss = 0.14847966\n",
      "Iteration 317, loss = 0.14570636\n",
      "Iteration 318, loss = 0.14593840\n",
      "Iteration 319, loss = 0.14450973\n",
      "Iteration 320, loss = 0.14511648\n",
      "Iteration 321, loss = 0.14564312\n",
      "Iteration 322, loss = 0.14503520\n",
      "Iteration 323, loss = 0.14444020\n",
      "Iteration 324, loss = 0.14392628\n",
      "Iteration 325, loss = 0.14670649\n",
      "Iteration 326, loss = 0.14610888\n",
      "Iteration 327, loss = 0.14473728\n",
      "Iteration 328, loss = 0.14495255\n",
      "Iteration 329, loss = 0.14504066\n",
      "Iteration 330, loss = 0.14457013\n",
      "Iteration 331, loss = 0.14354779\n",
      "Iteration 332, loss = 0.14360353\n",
      "Iteration 333, loss = 0.14483581\n",
      "Iteration 334, loss = 0.14560750\n",
      "Iteration 335, loss = 0.14296903\n",
      "Iteration 336, loss = 0.14318102\n",
      "Iteration 337, loss = 0.14356576\n",
      "Iteration 338, loss = 0.14178283\n",
      "Iteration 339, loss = 0.14277768\n",
      "Iteration 340, loss = 0.14228684\n",
      "Iteration 341, loss = 0.14222389\n",
      "Iteration 342, loss = 0.14333936\n",
      "Iteration 343, loss = 0.14218403\n",
      "Iteration 344, loss = 0.14165343\n",
      "Iteration 345, loss = 0.14241231\n",
      "Iteration 346, loss = 0.14196388\n",
      "Iteration 347, loss = 0.14249715\n",
      "Iteration 348, loss = 0.14200818\n",
      "Iteration 349, loss = 0.14243914\n",
      "Iteration 350, loss = 0.14066494\n",
      "Iteration 351, loss = 0.14224498\n",
      "Iteration 352, loss = 0.14246799\n",
      "Iteration 353, loss = 0.14173072\n",
      "Iteration 354, loss = 0.14218995\n",
      "Iteration 355, loss = 0.14128457\n",
      "Iteration 356, loss = 0.14101842\n",
      "Iteration 357, loss = 0.14197120\n",
      "Iteration 358, loss = 0.14180041\n",
      "Iteration 359, loss = 0.14037759\n",
      "Iteration 360, loss = 0.13954861\n",
      "Iteration 361, loss = 0.14073510\n",
      "Iteration 362, loss = 0.14211804\n",
      "Iteration 363, loss = 0.13960728\n",
      "Iteration 364, loss = 0.14074979\n",
      "Iteration 365, loss = 0.14050595\n",
      "Iteration 366, loss = 0.14171192\n",
      "Iteration 367, loss = 0.13970369\n",
      "Iteration 368, loss = 0.13914170\n",
      "Iteration 369, loss = 0.14091525\n",
      "Iteration 370, loss = 0.14041311\n",
      "Iteration 371, loss = 0.13904185\n",
      "Iteration 372, loss = 0.13993526\n",
      "Iteration 373, loss = 0.14026006\n",
      "Iteration 374, loss = 0.13966660\n",
      "Iteration 375, loss = 0.14051457\n",
      "Iteration 376, loss = 0.13823230\n",
      "Iteration 377, loss = 0.13984669\n",
      "Iteration 378, loss = 0.14046492\n",
      "Iteration 379, loss = 0.13891931\n",
      "Iteration 380, loss = 0.13729431\n",
      "Iteration 381, loss = 0.13743672\n",
      "Iteration 382, loss = 0.13941974\n",
      "Iteration 383, loss = 0.13858032\n",
      "Iteration 384, loss = 0.13779423\n",
      "Iteration 385, loss = 0.13666657\n",
      "Iteration 386, loss = 0.13909524\n",
      "Iteration 387, loss = 0.13793284\n",
      "Iteration 388, loss = 0.13697958\n",
      "Iteration 389, loss = 0.13578733\n",
      "Iteration 390, loss = 0.13775981\n",
      "Iteration 391, loss = 0.13755776\n",
      "Iteration 392, loss = 0.13804931\n",
      "Iteration 393, loss = 0.13902827\n",
      "Iteration 394, loss = 0.13751309\n",
      "Iteration 395, loss = 0.13718562\n",
      "Iteration 396, loss = 0.13631279\n",
      "Iteration 397, loss = 0.13913314\n",
      "Iteration 398, loss = 0.13609931\n",
      "Iteration 399, loss = 0.13700661\n",
      "Iteration 400, loss = 0.13832037\n",
      "Training loss did not improve more than tol=0.000010 for 10 consecutive epochs. Stopping.\n"
     ]
    },
    {
     "data": {
      "text/html": [
       "<style>#sk-container-id-1 {color: black;background-color: white;}#sk-container-id-1 pre{padding: 0;}#sk-container-id-1 div.sk-toggleable {background-color: white;}#sk-container-id-1 label.sk-toggleable__label {cursor: pointer;display: block;width: 100%;margin-bottom: 0;padding: 0.3em;box-sizing: border-box;text-align: center;}#sk-container-id-1 label.sk-toggleable__label-arrow:before {content: \"▸\";float: left;margin-right: 0.25em;color: #696969;}#sk-container-id-1 label.sk-toggleable__label-arrow:hover:before {color: black;}#sk-container-id-1 div.sk-estimator:hover label.sk-toggleable__label-arrow:before {color: black;}#sk-container-id-1 div.sk-toggleable__content {max-height: 0;max-width: 0;overflow: hidden;text-align: left;background-color: #f0f8ff;}#sk-container-id-1 div.sk-toggleable__content pre {margin: 0.2em;color: black;border-radius: 0.25em;background-color: #f0f8ff;}#sk-container-id-1 input.sk-toggleable__control:checked~div.sk-toggleable__content {max-height: 200px;max-width: 100%;overflow: auto;}#sk-container-id-1 input.sk-toggleable__control:checked~label.sk-toggleable__label-arrow:before {content: \"▾\";}#sk-container-id-1 div.sk-estimator input.sk-toggleable__control:checked~label.sk-toggleable__label {background-color: #d4ebff;}#sk-container-id-1 div.sk-label input.sk-toggleable__control:checked~label.sk-toggleable__label {background-color: #d4ebff;}#sk-container-id-1 input.sk-hidden--visually {border: 0;clip: rect(1px 1px 1px 1px);clip: rect(1px, 1px, 1px, 1px);height: 1px;margin: -1px;overflow: hidden;padding: 0;position: absolute;width: 1px;}#sk-container-id-1 div.sk-estimator {font-family: monospace;background-color: #f0f8ff;border: 1px dotted black;border-radius: 0.25em;box-sizing: border-box;margin-bottom: 0.5em;}#sk-container-id-1 div.sk-estimator:hover {background-color: #d4ebff;}#sk-container-id-1 div.sk-parallel-item::after {content: \"\";width: 100%;border-bottom: 1px solid gray;flex-grow: 1;}#sk-container-id-1 div.sk-label:hover label.sk-toggleable__label {background-color: #d4ebff;}#sk-container-id-1 div.sk-serial::before {content: \"\";position: absolute;border-left: 1px solid gray;box-sizing: border-box;top: 0;bottom: 0;left: 50%;z-index: 0;}#sk-container-id-1 div.sk-serial {display: flex;flex-direction: column;align-items: center;background-color: white;padding-right: 0.2em;padding-left: 0.2em;position: relative;}#sk-container-id-1 div.sk-item {position: relative;z-index: 1;}#sk-container-id-1 div.sk-parallel {display: flex;align-items: stretch;justify-content: center;background-color: white;position: relative;}#sk-container-id-1 div.sk-item::before, #sk-container-id-1 div.sk-parallel-item::before {content: \"\";position: absolute;border-left: 1px solid gray;box-sizing: border-box;top: 0;bottom: 0;left: 50%;z-index: -1;}#sk-container-id-1 div.sk-parallel-item {display: flex;flex-direction: column;z-index: 1;position: relative;background-color: white;}#sk-container-id-1 div.sk-parallel-item:first-child::after {align-self: flex-end;width: 50%;}#sk-container-id-1 div.sk-parallel-item:last-child::after {align-self: flex-start;width: 50%;}#sk-container-id-1 div.sk-parallel-item:only-child::after {width: 0;}#sk-container-id-1 div.sk-dashed-wrapped {border: 1px dashed gray;margin: 0 0.4em 0.5em 0.4em;box-sizing: border-box;padding-bottom: 0.4em;background-color: white;}#sk-container-id-1 div.sk-label label {font-family: monospace;font-weight: bold;display: inline-block;line-height: 1.2em;}#sk-container-id-1 div.sk-label-container {text-align: center;}#sk-container-id-1 div.sk-container {/* jupyter's `normalize.less` sets `[hidden] { display: none; }` but bootstrap.min.css set `[hidden] { display: none !important; }` so we also need the `!important` here to be able to override the default hidden behavior on the sphinx rendered scikit-learn.org. See: https://github.com/scikit-learn/scikit-learn/issues/21755 */display: inline-block !important;position: relative;}#sk-container-id-1 div.sk-text-repr-fallback {display: none;}</style><div id=\"sk-container-id-1\" class=\"sk-top-container\"><div class=\"sk-text-repr-fallback\"><pre>MLPClassifier(hidden_layer_sizes=(55, 55), max_iter=1000, tol=1e-05,\n",
       "              verbose=True)</pre><b>In a Jupyter environment, please rerun this cell to show the HTML representation or trust the notebook. <br />On GitHub, the HTML representation is unable to render, please try loading this page with nbviewer.org.</b></div><div class=\"sk-container\" hidden><div class=\"sk-item\"><div class=\"sk-estimator sk-toggleable\"><input class=\"sk-toggleable__control sk-hidden--visually\" id=\"sk-estimator-id-1\" type=\"checkbox\" checked><label for=\"sk-estimator-id-1\" class=\"sk-toggleable__label sk-toggleable__label-arrow\">MLPClassifier</label><div class=\"sk-toggleable__content\"><pre>MLPClassifier(hidden_layer_sizes=(55, 55), max_iter=1000, tol=1e-05,\n",
       "              verbose=True)</pre></div></div></div></div></div>"
      ],
      "text/plain": [
       "MLPClassifier(hidden_layer_sizes=(55, 55), max_iter=1000, tol=1e-05,\n",
       "              verbose=True)"
      ]
     },
     "execution_count": 7,
     "metadata": {},
     "output_type": "execute_result"
    }
   ],
   "source": [
    "ann_census.fit(X_census_treinamento, Y_census_treinamento)"
   ]
  },
  {
   "cell_type": "code",
   "execution_count": 8,
   "metadata": {},
   "outputs": [],
   "source": [
    "previsoes = ann_census.predict(X_census_teste)"
   ]
  },
  {
   "cell_type": "code",
   "execution_count": 9,
   "metadata": {},
   "outputs": [
    {
     "data": {
      "text/plain": [
       "array([' <=50K', ' <=50K', ' <=50K', ..., ' <=50K', ' <=50K', ' >50K'],\n",
       "      dtype='<U6')"
      ]
     },
     "execution_count": 9,
     "metadata": {},
     "output_type": "execute_result"
    }
   ],
   "source": [
    "previsoes"
   ]
  },
  {
   "cell_type": "code",
   "execution_count": 10,
   "metadata": {},
   "outputs": [
    {
     "data": {
      "text/plain": [
       "array([' <=50K', ' <=50K', ' <=50K', ..., ' <=50K', ' <=50K', ' <=50K'],\n",
       "      dtype=object)"
      ]
     },
     "execution_count": 10,
     "metadata": {},
     "output_type": "execute_result"
    }
   ],
   "source": [
    "Y_census_teste"
   ]
  },
  {
   "cell_type": "code",
   "execution_count": 11,
   "metadata": {},
   "outputs": [],
   "source": [
    "from sklearn.metrics import accuracy_score, classification_report"
   ]
  },
  {
   "cell_type": "code",
   "execution_count": 12,
   "metadata": {},
   "outputs": [
    {
     "data": {
      "text/plain": [
       "0.8229273285568065"
      ]
     },
     "execution_count": 12,
     "metadata": {},
     "output_type": "execute_result"
    }
   ],
   "source": [
    "accuracy_score(Y_census_teste, previsoes)"
   ]
  },
  {
   "cell_type": "code",
   "execution_count": 13,
   "metadata": {},
   "outputs": [
    {
     "data": {
      "text/plain": [
       "0.8229273285568065"
      ]
     },
     "execution_count": 13,
     "metadata": {},
     "output_type": "execute_result"
    },
    {
     "data": {
      "image/png": "[encoded data removed]",
      "text/plain": [
       "<Figure size 432x288 with 1 Axes>"
      ]
     },
     "metadata": {
      "needs_background": "light"
     },
     "output_type": "display_data"
    }
   ],
   "source": [
    "from yellowbrick.classifier import ConfusionMatrix\n",
    "cm = ConfusionMatrix(ann_census)\n",
    "cm.fit(X_census_treinamento, Y_census_treinamento)\n",
    "cm.score(X_census_teste, Y_census_teste)"
   ]
  },
  {
   "cell_type": "code",
   "execution_count": 14,
   "metadata": {},
   "outputs": [
    {
     "name": "stdout",
     "output_type": "stream",
     "text": [
      "              precision    recall  f1-score   support\n",
      "\n",
      "       <=50K       0.88      0.89      0.88      3693\n",
      "        >50K       0.64      0.62      0.63      1192\n",
      "\n",
      "    accuracy                           0.82      4885\n",
      "   macro avg       0.76      0.76      0.76      4885\n",
      "weighted avg       0.82      0.82      0.82      4885\n",
      "\n"
     ]
    }
   ],
   "source": [
    "print(classification_report(Y_census_teste, previsoes))"
   ]
  }
 ],
 "metadata": {
  "kernelspec": {
   "display_name": "Python 3.10.5 64-bit (windows store)",
   "language": "python",
   "name": "python3"
  },
  "language_info": {
   "codemirror_mode": {
    "name": "ipython",
    "version": 3
   },
   "file_extension": ".py",
   "mimetype": "text/x-python",
   "name": "python",
   "nbconvert_exporter": "python",
   "pygments_lexer": "ipython3",
   "version": "3.10.6"
  },
  "orig_nbformat": 4,
  "vscode": {
   "interpreter": {
    "hash": "0e08af0f12cee5debeb741571517edb6308eea34c0f66b883731c7e0e05f39ab"
   }
  }
 },
 "nbformat": 4,
 "nbformat_minor": 2
}
